{
 "cells": [
  {
   "cell_type": "markdown",
   "source": [
    "# MNIST Classification with SimpleChains"
   ],
   "metadata": {}
  },
  {
   "cell_type": "markdown",
   "source": [
    "SimpleChains.jl is an excellent framework for training small neural networks. In this\n",
    "tutorial we will demonstrate how to use the same API as Lux.jl to train a model using\n",
    "SimpleChains.jl. We will use the tutorial from\n",
    "[SimpleChains.jl](https://pumasai.github.io/SimpleChains.jl/dev/examples/mnist/) as a\n",
    "reference."
   ],
   "metadata": {}
  },
  {
   "cell_type": "markdown",
   "source": [
    "## Package Imports"
   ],
   "metadata": {}
  },
  {
   "outputs": [],
   "cell_type": "code",
   "source": [
    "using Lux, MLUtils, Optimisers, Zygote, OneHotArrays, Random, Statistics, Printf, Reactant\n",
    "using MLDatasets: MNIST\n",
    "using SimpleChains: SimpleChains\n",
    "\n",
    "Reactant.set_default_backend(\"cpu\")"
   ],
   "metadata": {},
   "execution_count": null
  },
  {
   "cell_type": "markdown",
   "source": [
    "## Loading MNIST"
   ],
   "metadata": {}
  },
  {
   "outputs": [],
   "cell_type": "code",
   "source": [
    "function loadmnist(batchsize, train_split)\n",
    "    # Load MNIST\n",
    "    N = parse(Bool, get(ENV, \"CI\", \"false\")) ? 1500 : nothing\n",
    "    dataset = MNIST(; split=:train)\n",
    "    if N !== nothing\n",
    "        imgs = dataset.features[:, :, 1:N]\n",
    "        labels_raw = dataset.targets[1:N]\n",
    "    else\n",
    "        imgs = dataset.features\n",
    "        labels_raw = dataset.targets\n",
    "    end\n",
    "\n",
    "    # Process images into (H, W, C, BS) batches\n",
    "    x_data = Float32.(reshape(imgs, size(imgs, 1), size(imgs, 2), 1, size(imgs, 3)))\n",
    "    y_data = onehotbatch(labels_raw, 0:9)\n",
    "    (x_train, y_train), (x_test, y_test) = splitobs((x_data, y_data); at=train_split)\n",
    "\n",
    "    return (\n",
    "        # Use DataLoader to automatically minibatch and shuffle the data\n",
    "        DataLoader(collect.((x_train, y_train)); batchsize, shuffle=true, partial=false),\n",
    "        # Don't shuffle the test data\n",
    "        DataLoader(collect.((x_test, y_test)); batchsize, shuffle=false, partial=false),\n",
    "    )\n",
    "end\n",
    "nothing #hide"
   ],
   "metadata": {},
   "execution_count": null
  },
  {
   "cell_type": "markdown",
   "source": [
    "## Define the Model"
   ],
   "metadata": {}
  },
  {
   "outputs": [],
   "cell_type": "code",
   "source": [
    "lux_model = Chain(\n",
    "    Conv((5, 5), 1 => 6, relu),\n",
    "    MaxPool((2, 2)),\n",
    "    Conv((5, 5), 6 => 16, relu),\n",
    "    MaxPool((2, 2)),\n",
    "    FlattenLayer(3),\n",
    "    Chain(Dense(256 => 128, relu), Dense(128 => 84, relu), Dense(84 => 10)),\n",
    ")"
   ],
   "metadata": {},
   "execution_count": null
  },
  {
   "cell_type": "markdown",
   "source": [
    "We now need to convert the lux_model to SimpleChains.jl. We need to do this by defining\n",
    "the `ToSimpleChainsAdaptor` and providing the input dimensions."
   ],
   "metadata": {}
  },
  {
   "outputs": [],
   "cell_type": "code",
   "source": [
    "adaptor = ToSimpleChainsAdaptor((28, 28, 1))\n",
    "simple_chains_model = adaptor(lux_model)"
   ],
   "metadata": {},
   "execution_count": null
  },
  {
   "cell_type": "markdown",
   "source": [
    "## Helper Functions"
   ],
   "metadata": {}
  },
  {
   "outputs": [],
   "cell_type": "code",
   "source": [
    "const lossfn = CrossEntropyLoss(; logits=Val(true))\n",
    "\n",
    "function accuracy(model, ps, st, dataloader)\n",
    "    total_correct, total = 0, 0\n",
    "    st = Lux.testmode(st)\n",
    "    for (x, y) in dataloader\n",
    "        target_class = onecold(Array(y))\n",
    "        predicted_class = onecold(Array(first(model(x, ps, st))))\n",
    "        total_correct += sum(target_class .== predicted_class)\n",
    "        total += length(target_class)\n",
    "    end\n",
    "    return total_correct / total\n",
    "end"
   ],
   "metadata": {},
   "execution_count": null
  },
  {
   "cell_type": "markdown",
   "source": [
    "## Define the Training Loop"
   ],
   "metadata": {}
  },
  {
   "outputs": [],
   "cell_type": "code",
   "source": [
    "function train(model, dev=cpu_device(); rng=Random.default_rng(), kwargs...)\n",
    "    train_dataloader, test_dataloader = dev(loadmnist(128, 0.9))\n",
    "    ps, st = dev(Lux.setup(rng, model))\n",
    "\n",
    "    vjp = dev isa ReactantDevice ? AutoEnzyme() : AutoZygote()\n",
    "\n",
    "    train_state = Training.TrainState(model, ps, st, Adam(3.0f-4))\n",
    "\n",
    "    if dev isa ReactantDevice\n",
    "        x_ra = first(test_dataloader)[1]\n",
    "        model_compiled = Reactant.with_config(;\n",
    "            dot_general_precision=PrecisionConfig.HIGH,\n",
    "            convolution_precision=PrecisionConfig.HIGH,\n",
    "        ) do\n",
    "            @compile model(x_ra, ps, Lux.testmode(st))\n",
    "        end\n",
    "    else\n",
    "        model_compiled = model\n",
    "    end\n",
    "\n",
    "    ### Lets train the model\n",
    "    nepochs = 10\n",
    "    tr_acc, te_acc = 0.0, 0.0\n",
    "    for epoch in 1:nepochs\n",
    "        stime = time()\n",
    "        for (x, y) in train_dataloader\n",
    "            _, _, _, train_state = Training.single_train_step!(\n",
    "                vjp, lossfn, (x, y), train_state\n",
    "            )\n",
    "        end\n",
    "        ttime = time() - stime\n",
    "\n",
    "        tr_acc =\n",
    "            accuracy(\n",
    "                model_compiled, train_state.parameters, train_state.states, train_dataloader\n",
    "            ) * 100\n",
    "        te_acc =\n",
    "            accuracy(\n",
    "                model_compiled, train_state.parameters, train_state.states, test_dataloader\n",
    "            ) * 100\n",
    "\n",
    "        @printf \"[%2d/%2d] \\t Time %.2fs \\t Training Accuracy: %.2f%% \\t Test Accuracy: \\\n",
    "                 %.2f%%\\n\" epoch nepochs ttime tr_acc te_acc\n",
    "    end\n",
    "\n",
    "    return tr_acc, te_acc\n",
    "end\n",
    "nothing #hide"
   ],
   "metadata": {},
   "execution_count": null
  },
  {
   "cell_type": "markdown",
   "source": [
    "## Finally Training the Model"
   ],
   "metadata": {}
  },
  {
   "cell_type": "markdown",
   "source": [
    "First we will train the Lux model"
   ],
   "metadata": {}
  },
  {
   "outputs": [],
   "cell_type": "code",
   "source": [
    "tr_acc, te_acc = train(lux_model, reactant_device())\n",
    "@assert tr_acc > 0.75 && te_acc > 0.75 #hide\n",
    "nothing #hide"
   ],
   "metadata": {},
   "execution_count": null
  },
  {
   "cell_type": "markdown",
   "source": [
    "Now we will train the SimpleChains model"
   ],
   "metadata": {}
  },
  {
   "outputs": [],
   "cell_type": "code",
   "source": [
    "tr_acc, te_acc = train(simple_chains_model)\n",
    "@assert tr_acc > 0.75 && te_acc > 0.75 #hide\n",
    "nothing #hide"
   ],
   "metadata": {},
   "execution_count": null
  },
  {
   "cell_type": "markdown",
   "source": [
    "On my local machine we see a 3-4x speedup when using SimpleChains.jl. The conditions of\n",
    "the server this documentation is being built on is not ideal for CPU benchmarking hence,\n",
    "the speedup may not be as significant and even there might be regressions."
   ],
   "metadata": {}
  },
  {
   "cell_type": "markdown",
   "source": [
    "---\n",
    "\n",
    "*This notebook was generated using [Literate.jl](https://github.com/fredrikekre/Literate.jl).*"
   ],
   "metadata": {}
  }
 ],
 "nbformat_minor": 3,
 "metadata": {
  "language_info": {
   "file_extension": ".jl",
   "mimetype": "application/julia",
   "name": "julia",
   "version": "1.11.7"
  },
  "kernelspec": {
   "name": "julia-1.11",
   "display_name": "Julia 1.11.7",
   "language": "julia"
  }
 },
 "nbformat": 4
}
