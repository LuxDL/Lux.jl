{
 "cells": [
  {
   "cell_type": "markdown",
   "source": [
    "# Training a Neural ODE to Model Gravitational Waveforms"
   ],
   "metadata": {}
  },
  {
   "cell_type": "markdown",
   "source": [
    "This code is adapted from [Astroinformatics/ScientificMachineLearning](https://github.com/Astroinformatics/ScientificMachineLearning/blob/c93aac3a460d70b4cce98836b677fd9b732e94b7/neuralode_gw.ipynb)\n",
    "\n",
    "The code has been minimally adapted from\n",
    "[Keith et. al. 2021](https://arxiv.org/abs/2102.12695) which originally used Flux.jl"
   ],
   "metadata": {}
  },
  {
   "cell_type": "markdown",
   "source": [
    "## Package Imports"
   ],
   "metadata": {}
  },
  {
   "outputs": [],
   "cell_type": "code",
   "source": [
    "using Lux,\n",
    "    ComponentArrays,\n",
    "    LineSearches,\n",
    "    OrdinaryDiffEqLowOrderRK,\n",
    "    Optimization,\n",
    "    OptimizationOptimJL,\n",
    "    Printf,\n",
    "    Random,\n",
    "    SciMLSensitivity\n",
    "using CairoMakie"
   ],
   "metadata": {},
   "execution_count": null
  },
  {
   "cell_type": "markdown",
   "source": [
    "## Define some Utility Functions"
   ],
   "metadata": {}
  },
  {
   "cell_type": "markdown",
   "source": [
    "!!! tip\n",
    "\n",
    "    This section can be skipped. It defines functions to simulate the model, however,\n",
    "    from a scientific machine learning perspective, isn't super relevant."
   ],
   "metadata": {}
  },
  {
   "cell_type": "markdown",
   "source": [
    "We need a very crude 2-body path. Assume the 1-body motion is a Newtonian 2-body position\n",
    "vector $r = r_1 - r_2$ and use Newtonian formulas to get $r_1$, $r_2$ (e.g. Theoretical\n",
    "Mechanics of Particles and Continua 4.3)"
   ],
   "metadata": {}
  },
  {
   "outputs": [],
   "cell_type": "code",
   "source": [
    "function one2two(path, m₁, m₂)\n",
    "    M = m₁ + m₂\n",
    "    r₁ = m₂ / M .* path\n",
    "    r₂ = -m₁ / M .* path\n",
    "    return r₁, r₂\n",
    "end\n",
    "nothing #hide"
   ],
   "metadata": {},
   "execution_count": null
  },
  {
   "cell_type": "markdown",
   "source": [
    "Next we define a function to perform the change of variables:\n",
    "$$(\\chi(t),\\phi(t)) \\mapsto (x(t),y(t))$$"
   ],
   "metadata": {}
  },
  {
   "outputs": [],
   "cell_type": "code",
   "source": [
    "@views function soln2orbit(soln, model_params=nothing)\n",
    "    @assert size(soln, 1) ∈ [2, 4] \"size(soln,1) must be either 2 or 4\"\n",
    "\n",
    "    if size(soln, 1) == 2\n",
    "        χ = soln[1, :]\n",
    "        ϕ = soln[2, :]\n",
    "\n",
    "        @assert length(model_params) == 3 \"model_params must have length 3 when size(soln,2) = 2\"\n",
    "        p, M, e = model_params\n",
    "    else\n",
    "        χ = soln[1, :]\n",
    "        ϕ = soln[2, :]\n",
    "        p = soln[3, :]\n",
    "        e = soln[4, :]\n",
    "    end\n",
    "\n",
    "    r = p ./ (1 .+ e .* cos.(χ))\n",
    "    x = r .* cos.(ϕ)\n",
    "    y = r .* sin.(ϕ)\n",
    "\n",
    "    orbit = vcat(x', y')\n",
    "    return orbit\n",
    "end\n",
    "nothing #hide"
   ],
   "metadata": {},
   "execution_count": null
  },
  {
   "cell_type": "markdown",
   "source": [
    "This function uses second-order one-sided difference stencils at the endpoints;\n",
    "see https://doi.org/10.1090/S0025-5718-1988-0935077-0"
   ],
   "metadata": {}
  },
  {
   "outputs": [],
   "cell_type": "code",
   "source": [
    "function d_dt(v::AbstractVector, dt)\n",
    "    a = -3 / 2 * v[1] + 2 * v[2] - 1 / 2 * v[3]\n",
    "    b = (v[3:end] .- v[1:(end - 2)]) / 2\n",
    "    c = 3 / 2 * v[end] - 2 * v[end - 1] + 1 / 2 * v[end - 2]\n",
    "    return [a; b; c] / dt\n",
    "end\n",
    "nothing #hide"
   ],
   "metadata": {},
   "execution_count": null
  },
  {
   "cell_type": "markdown",
   "source": [
    "This function uses second-order one-sided difference stencils at the endpoints;\n",
    "see https://doi.org/10.1090/S0025-5718-1988-0935077-0"
   ],
   "metadata": {}
  },
  {
   "outputs": [],
   "cell_type": "code",
   "source": [
    "function d2_dt2(v::AbstractVector, dt)\n",
    "    a = 2 * v[1] - 5 * v[2] + 4 * v[3] - v[4]\n",
    "    b = v[1:(end - 2)] .- 2 * v[2:(end - 1)] .+ v[3:end]\n",
    "    c = 2 * v[end] - 5 * v[end - 1] + 4 * v[end - 2] - v[end - 3]\n",
    "    return [a; b; c] / (dt^2)\n",
    "end\n",
    "nothing #hide"
   ],
   "metadata": {},
   "execution_count": null
  },
  {
   "cell_type": "markdown",
   "source": [
    "Now we define a function to compute the trace-free moment tensor from the orbit"
   ],
   "metadata": {}
  },
  {
   "outputs": [],
   "cell_type": "code",
   "source": [
    "function orbit2tensor(orbit, component, mass=1)\n",
    "    x = orbit[1, :]\n",
    "    y = orbit[2, :]\n",
    "\n",
    "    Ixx = x .^ 2\n",
    "    Iyy = y .^ 2\n",
    "    Ixy = x .* y\n",
    "    trace = Ixx .+ Iyy\n",
    "\n",
    "    if component[1] == 1 && component[2] == 1\n",
    "        tmp = Ixx .- trace ./ 3\n",
    "    elseif component[1] == 2 && component[2] == 2\n",
    "        tmp = Iyy .- trace ./ 3\n",
    "    else\n",
    "        tmp = Ixy\n",
    "    end\n",
    "\n",
    "    return mass .* tmp\n",
    "end\n",
    "\n",
    "function h_22_quadrupole_components(dt, orbit, component, mass=1)\n",
    "    mtensor = orbit2tensor(orbit, component, mass)\n",
    "    mtensor_ddot = d2_dt2(mtensor, dt)\n",
    "    return 2 * mtensor_ddot\n",
    "end\n",
    "\n",
    "function h_22_quadrupole(dt, orbit, mass=1)\n",
    "    h11 = h_22_quadrupole_components(dt, orbit, (1, 1), mass)\n",
    "    h22 = h_22_quadrupole_components(dt, orbit, (2, 2), mass)\n",
    "    h12 = h_22_quadrupole_components(dt, orbit, (1, 2), mass)\n",
    "    return h11, h12, h22\n",
    "end\n",
    "\n",
    "function h_22_strain_one_body(dt::T, orbit) where {T}\n",
    "    h11, h12, h22 = h_22_quadrupole(dt, orbit)\n",
    "\n",
    "    h₊ = h11 - h22\n",
    "    hₓ = T(2) * h12\n",
    "\n",
    "    scaling_const = √(T(π) / 5)\n",
    "    return scaling_const * h₊, -scaling_const * hₓ\n",
    "end\n",
    "\n",
    "function h_22_quadrupole_two_body(dt, orbit1, mass1, orbit2, mass2)\n",
    "    h11_1, h12_1, h22_1 = h_22_quadrupole(dt, orbit1, mass1)\n",
    "    h11_2, h12_2, h22_2 = h_22_quadrupole(dt, orbit2, mass2)\n",
    "    h11 = h11_1 + h11_2\n",
    "    h12 = h12_1 + h12_2\n",
    "    h22 = h22_1 + h22_2\n",
    "    return h11, h12, h22\n",
    "end\n",
    "\n",
    "function h_22_strain_two_body(dt::T, orbit1, mass1, orbit2, mass2) where {T}\n",
    "    # compute (2,2) mode strain from orbits of BH1 of mass1 and BH2 of mass 2\n",
    "\n",
    "    @assert abs(mass1 + mass2 - 1.0) < 1.0e-12 \"Masses do not sum to unity\"\n",
    "\n",
    "    h11, h12, h22 = h_22_quadrupole_two_body(dt, orbit1, mass1, orbit2, mass2)\n",
    "\n",
    "    h₊ = h11 - h22\n",
    "    hₓ = T(2) * h12\n",
    "\n",
    "    scaling_const = √(T(π) / 5)\n",
    "    return scaling_const * h₊, -scaling_const * hₓ\n",
    "end\n",
    "\n",
    "function compute_waveform(dt::T, soln, mass_ratio, model_params=nothing) where {T}\n",
    "    @assert mass_ratio ≤ 1 \"mass_ratio must be <= 1\"\n",
    "    @assert mass_ratio ≥ 0 \"mass_ratio must be non-negative\"\n",
    "\n",
    "    orbit = soln2orbit(soln, model_params)\n",
    "    if mass_ratio > 0\n",
    "        m₂ = inv(T(1) + mass_ratio)\n",
    "        m₁ = mass_ratio * m₂\n",
    "\n",
    "        orbit₁, orbit₂ = one2two(orbit, m₁, m₂)\n",
    "        waveform = h_22_strain_two_body(dt, orbit₁, m₁, orbit₂, m₂)\n",
    "    else\n",
    "        waveform = h_22_strain_one_body(dt, orbit)\n",
    "    end\n",
    "    return waveform\n",
    "end\n",
    "nothing #hide"
   ],
   "metadata": {},
   "execution_count": null
  },
  {
   "cell_type": "markdown",
   "source": [
    "## Simulating the True Model"
   ],
   "metadata": {}
  },
  {
   "cell_type": "markdown",
   "source": [
    "`RelativisticOrbitModel` defines system of odes which describes motion of point like\n",
    "particle in Schwarzschild background, uses"
   ],
   "metadata": {}
  },
  {
   "cell_type": "markdown",
   "source": [
    "$$u[1] = \\chi$$\n",
    "$$u[2] = \\phi$$"
   ],
   "metadata": {}
  },
  {
   "cell_type": "markdown",
   "source": [
    "where, $p$, $M$, and $e$ are constants"
   ],
   "metadata": {}
  },
  {
   "outputs": [],
   "cell_type": "code",
   "source": [
    "function RelativisticOrbitModel(u, (p, M, e), t)\n",
    "    χ, ϕ = u\n",
    "\n",
    "    numer = (p - 2 - 2 * e * cos(χ)) * (1 + e * cos(χ))^2\n",
    "    denom = sqrt((p - 2)^2 - 4 * e^2)\n",
    "\n",
    "    χ̇ = numer * sqrt(p - 6 - 2 * e * cos(χ)) / (M * (p^2) * denom)\n",
    "    ϕ̇ = numer / (M * (p^(3 / 2)) * denom)\n",
    "\n",
    "    return [χ̇, ϕ̇]\n",
    "end\n",
    "\n",
    "mass_ratio = 0.0         # test particle\n",
    "u0 = Float64[π, 0.0]     # initial conditions\n",
    "datasize = 250\n",
    "tspan = (0.0f0, 6.0f4)   # timespace for GW waveform\n",
    "tsteps = range(tspan[1], tspan[2]; length=datasize)  # time at each timestep\n",
    "dt_data = tsteps[2] - tsteps[1]\n",
    "dt = 100.0\n",
    "const ode_model_params = [100.0, 1.0, 0.5]; # p, M, e"
   ],
   "metadata": {},
   "execution_count": null
  },
  {
   "cell_type": "markdown",
   "source": [
    "Let's simulate the true model and plot the results using `OrdinaryDiffEq.jl`"
   ],
   "metadata": {}
  },
  {
   "outputs": [],
   "cell_type": "code",
   "source": [
    "prob = ODEProblem(RelativisticOrbitModel, u0, tspan, ode_model_params)\n",
    "soln = Array(solve(prob, RK4(); saveat=tsteps, dt, adaptive=false))\n",
    "waveform = first(compute_waveform(dt_data, soln, mass_ratio, ode_model_params))\n",
    "\n",
    "begin\n",
    "    fig = Figure()\n",
    "    ax = CairoMakie.Axis(fig[1, 1]; xlabel=\"Time\", ylabel=\"Waveform\")\n",
    "\n",
    "    l = lines!(ax, tsteps, waveform; linewidth=2, alpha=0.75)\n",
    "    s = scatter!(ax, tsteps, waveform; marker=:circle, markersize=12, alpha=0.5)\n",
    "\n",
    "    axislegend(ax, [[l, s]], [\"Waveform Data\"])\n",
    "\n",
    "    fig\n",
    "end"
   ],
   "metadata": {},
   "execution_count": null
  },
  {
   "cell_type": "markdown",
   "source": [
    "## Defining a Neural Network Model"
   ],
   "metadata": {}
  },
  {
   "cell_type": "markdown",
   "source": [
    "Next, we define the neural network model that takes 1 input (time) and has two outputs.\n",
    "We'll make a function `ODE_model` that takes the initial conditions, neural network\n",
    "parameters and a time as inputs and returns the derivatives."
   ],
   "metadata": {}
  },
  {
   "cell_type": "markdown",
   "source": [
    "It is typically never recommended to use globals but in case you do use them, make sure\n",
    "to mark them as `const`."
   ],
   "metadata": {}
  },
  {
   "cell_type": "markdown",
   "source": [
    "We will deviate from the standard Neural Network initialization and use\n",
    "`WeightInitializers.jl`,"
   ],
   "metadata": {}
  },
  {
   "outputs": [],
   "cell_type": "code",
   "source": [
    "const nn = Chain(\n",
    "    Base.Fix1(fast_activation, cos),\n",
    "    Dense(1 => 32, cos; init_weight=truncated_normal(; std=1.0e-4), init_bias=zeros32),\n",
    "    Dense(32 => 32, cos; init_weight=truncated_normal(; std=1.0e-4), init_bias=zeros32),\n",
    "    Dense(32 => 2; init_weight=truncated_normal(; std=1.0e-4), init_bias=zeros32),\n",
    ")\n",
    "ps, st = Lux.setup(Random.default_rng(), nn)"
   ],
   "metadata": {},
   "execution_count": null
  },
  {
   "cell_type": "markdown",
   "source": [
    "Similar to most deep learning frameworks, Lux defaults to using `Float32`.\n",
    "However, in this case we need Float64"
   ],
   "metadata": {}
  },
  {
   "outputs": [],
   "cell_type": "code",
   "source": [
    "const params = ComponentArray(f64(ps))\n",
    "\n",
    "const nn_model = StatefulLuxLayer(nn, nothing, st)"
   ],
   "metadata": {},
   "execution_count": null
  },
  {
   "cell_type": "markdown",
   "source": [
    "Now we define a system of odes which describes motion of point like particle with\n",
    "Newtonian physics, uses\n",
    "\n",
    "$$u[1] = \\chi$$\n",
    "$$u[2] = \\phi$$\n",
    "\n",
    "where, $p$, $M$, and $e$ are constants"
   ],
   "metadata": {}
  },
  {
   "outputs": [],
   "cell_type": "code",
   "source": [
    "function ODE_model(u, nn_params, t)\n",
    "    χ, ϕ = u\n",
    "    p, M, e = ode_model_params\n",
    "\n",
    "    # In this example we know that `st` is am empty NamedTuple hence we can safely ignore\n",
    "    # it, however, in general, we should use `st` to store the state of the neural network.\n",
    "    y = 1 .+ nn_model([first(u)], nn_params)\n",
    "\n",
    "    numer = (1 + e * cos(χ))^2\n",
    "    denom = M * (p^(3 / 2))\n",
    "\n",
    "    χ̇ = (numer / denom) * y[1]\n",
    "    ϕ̇ = (numer / denom) * y[2]\n",
    "\n",
    "    return [χ̇, ϕ̇]\n",
    "end\n",
    "nothing #hide"
   ],
   "metadata": {},
   "execution_count": null
  },
  {
   "cell_type": "markdown",
   "source": [
    "Let us now simulate the neural network model and plot the results. We'll use the untrained\n",
    "neural network parameters to simulate the model."
   ],
   "metadata": {}
  },
  {
   "outputs": [],
   "cell_type": "code",
   "source": [
    "prob_nn = ODEProblem(ODE_model, u0, tspan, params)\n",
    "soln_nn = Array(solve(prob_nn, RK4(); u0, p=params, saveat=tsteps, dt, adaptive=false))\n",
    "waveform_nn = first(compute_waveform(dt_data, soln_nn, mass_ratio, ode_model_params))\n",
    "\n",
    "begin\n",
    "    fig = Figure()\n",
    "    ax = CairoMakie.Axis(fig[1, 1]; xlabel=\"Time\", ylabel=\"Waveform\")\n",
    "\n",
    "    l1 = lines!(ax, tsteps, waveform; linewidth=2, alpha=0.75)\n",
    "    s1 = scatter!(\n",
    "        ax, tsteps, waveform; marker=:circle, markersize=12, alpha=0.5, strokewidth=2\n",
    "    )\n",
    "\n",
    "    l2 = lines!(ax, tsteps, waveform_nn; linewidth=2, alpha=0.75)\n",
    "    s2 = scatter!(\n",
    "        ax, tsteps, waveform_nn; marker=:circle, markersize=12, alpha=0.5, strokewidth=2\n",
    "    )\n",
    "\n",
    "    axislegend(\n",
    "        ax,\n",
    "        [[l1, s1], [l2, s2]],\n",
    "        [\"Waveform Data\", \"Waveform Neural Net (Untrained)\"];\n",
    "        position=:lb,\n",
    "    )\n",
    "\n",
    "    fig\n",
    "end"
   ],
   "metadata": {},
   "execution_count": null
  },
  {
   "cell_type": "markdown",
   "source": [
    "## Setting Up for Training the Neural Network"
   ],
   "metadata": {}
  },
  {
   "cell_type": "markdown",
   "source": [
    "Next, we define the objective (loss) function to be minimized when training the neural\n",
    "differential equations."
   ],
   "metadata": {}
  },
  {
   "outputs": [],
   "cell_type": "code",
   "source": [
    "const mseloss = MSELoss()\n",
    "\n",
    "function loss(θ)\n",
    "    pred = Array(solve(prob_nn, RK4(); u0, p=θ, saveat=tsteps, dt, adaptive=false))\n",
    "    pred_waveform = first(compute_waveform(dt_data, pred, mass_ratio, ode_model_params))\n",
    "    return mseloss(pred_waveform, waveform)\n",
    "end\n",
    "nothing #hide"
   ],
   "metadata": {},
   "execution_count": null
  },
  {
   "cell_type": "markdown",
   "source": [
    "Warmup the loss function"
   ],
   "metadata": {}
  },
  {
   "outputs": [],
   "cell_type": "code",
   "source": [
    "loss(params)"
   ],
   "metadata": {},
   "execution_count": null
  },
  {
   "cell_type": "markdown",
   "source": [
    "Now let us define a callback function to store the loss over time"
   ],
   "metadata": {}
  },
  {
   "outputs": [],
   "cell_type": "code",
   "source": [
    "const losses = Float64[]\n",
    "\n",
    "function callback(θ, l)\n",
    "    push!(losses, l)\n",
    "    @printf \"Training \\t Iteration: %5d \\t Loss: %.10f\\n\" θ.iter l\n",
    "    return false\n",
    "end\n",
    "nothing #hide"
   ],
   "metadata": {},
   "execution_count": null
  },
  {
   "cell_type": "markdown",
   "source": [
    "## Training the Neural Network"
   ],
   "metadata": {}
  },
  {
   "cell_type": "markdown",
   "source": [
    "Training uses the BFGS optimizers. This seems to give good results because the Newtonian\n",
    "model seems to give a very good initial guess"
   ],
   "metadata": {}
  },
  {
   "outputs": [],
   "cell_type": "code",
   "source": [
    "adtype = Optimization.AutoZygote()\n",
    "optf = Optimization.OptimizationFunction((x, p) -> loss(x), adtype)\n",
    "optprob = Optimization.OptimizationProblem(optf, params)\n",
    "res = Optimization.solve(\n",
    "    optprob,\n",
    "    BFGS(; initial_stepnorm=0.01, linesearch=LineSearches.BackTracking());\n",
    "    callback,\n",
    "    maxiters=1000,\n",
    ")"
   ],
   "metadata": {},
   "execution_count": null
  },
  {
   "cell_type": "markdown",
   "source": [
    "## Visualizing the Results"
   ],
   "metadata": {}
  },
  {
   "cell_type": "markdown",
   "source": [
    "Let us now plot the loss over time"
   ],
   "metadata": {}
  },
  {
   "outputs": [],
   "cell_type": "code",
   "source": [
    "begin\n",
    "    fig = Figure()\n",
    "    ax = CairoMakie.Axis(fig[1, 1]; xlabel=\"Iteration\", ylabel=\"Loss\")\n",
    "\n",
    "    lines!(ax, losses; linewidth=4, alpha=0.75)\n",
    "    scatter!(ax, 1:length(losses), losses; marker=:circle, markersize=12, strokewidth=2)\n",
    "\n",
    "    fig\n",
    "end"
   ],
   "metadata": {},
   "execution_count": null
  },
  {
   "cell_type": "markdown",
   "source": [
    "Finally let us visualize the results"
   ],
   "metadata": {}
  },
  {
   "outputs": [],
   "cell_type": "code",
   "source": [
    "prob_nn = ODEProblem(ODE_model, u0, tspan, res.u)\n",
    "soln_nn = Array(solve(prob_nn, RK4(); u0, p=res.u, saveat=tsteps, dt, adaptive=false))\n",
    "waveform_nn_trained = first(\n",
    "    compute_waveform(dt_data, soln_nn, mass_ratio, ode_model_params)\n",
    ")\n",
    "\n",
    "begin\n",
    "    fig = Figure()\n",
    "    ax = CairoMakie.Axis(fig[1, 1]; xlabel=\"Time\", ylabel=\"Waveform\")\n",
    "\n",
    "    l1 = lines!(ax, tsteps, waveform; linewidth=2, alpha=0.75)\n",
    "    s1 = scatter!(\n",
    "        ax, tsteps, waveform; marker=:circle, alpha=0.5, strokewidth=2, markersize=12\n",
    "    )\n",
    "\n",
    "    l2 = lines!(ax, tsteps, waveform_nn; linewidth=2, alpha=0.75)\n",
    "    s2 = scatter!(\n",
    "        ax, tsteps, waveform_nn; marker=:circle, alpha=0.5, strokewidth=2, markersize=12\n",
    "    )\n",
    "\n",
    "    l3 = lines!(ax, tsteps, waveform_nn_trained; linewidth=2, alpha=0.75)\n",
    "    s3 = scatter!(\n",
    "        ax,\n",
    "        tsteps,\n",
    "        waveform_nn_trained;\n",
    "        marker=:circle,\n",
    "        alpha=0.5,\n",
    "        strokewidth=2,\n",
    "        markersize=12,\n",
    "    )\n",
    "\n",
    "    axislegend(\n",
    "        ax,\n",
    "        [[l1, s1], [l2, s2], [l3, s3]],\n",
    "        [\"Waveform Data\", \"Waveform Neural Net (Untrained)\", \"Waveform Neural Net\"];\n",
    "        position=:lb,\n",
    "    )\n",
    "\n",
    "    fig\n",
    "end"
   ],
   "metadata": {},
   "execution_count": null
  },
  {
   "cell_type": "markdown",
   "source": [
    "---\n",
    "\n",
    "*This notebook was generated using [Literate.jl](https://github.com/fredrikekre/Literate.jl).*"
   ],
   "metadata": {}
  }
 ],
 "nbformat_minor": 3,
 "metadata": {
  "language_info": {
   "file_extension": ".jl",
   "mimetype": "application/julia",
   "name": "julia",
   "version": "1.11.7"
  },
  "kernelspec": {
   "name": "julia-1.11",
   "display_name": "Julia 1.11.7",
   "language": "julia"
  }
 },
 "nbformat": 4
}